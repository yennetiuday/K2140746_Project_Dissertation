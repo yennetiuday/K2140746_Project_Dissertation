{
 "cells": [
  {
   "cell_type": "code",
   "execution_count": 19,
   "id": "04f871f6",
   "metadata": {},
   "outputs": [],
   "source": [
    "import pandas as pd\n",
    "import numpy as np\n",
    "\n",
    "import nltk\n",
    "import re\n",
    "\n",
    "from sklearn.model_selection import train_test_split\n",
    "from sklearn import preprocessing\n",
    "\n",
    "import string\n",
    "\n",
    "import seaborn as sns"
   ]
  },
  {
   "cell_type": "code",
   "execution_count": 2,
   "id": "984339ca",
   "metadata": {},
   "outputs": [],
   "source": [
    "df = pd.read_csv('https://raw.githubusercontent.com/yennetiuday/K2140746_Project_Dissertation/main/data/nytimes_dataset.csv')"
   ]
  },
  {
   "cell_type": "code",
   "execution_count": 3,
   "id": "b90c3271",
   "metadata": {},
   "outputs": [
    {
     "data": {
      "text/plain": [
       "(61218, 7)"
      ]
     },
     "execution_count": 3,
     "metadata": {},
     "output_type": "execute_result"
    }
   ],
   "source": [
    "df.shape"
   ]
  },
  {
   "cell_type": "code",
   "execution_count": 4,
   "id": "5d54d72f",
   "metadata": {},
   "outputs": [
    {
     "data": {
      "text/html": [
       "<div>\n",
       "<style scoped>\n",
       "    .dataframe tbody tr th:only-of-type {\n",
       "        vertical-align: middle;\n",
       "    }\n",
       "\n",
       "    .dataframe tbody tr th {\n",
       "        vertical-align: top;\n",
       "    }\n",
       "\n",
       "    .dataframe thead th {\n",
       "        text-align: right;\n",
       "    }\n",
       "</style>\n",
       "<table border=\"1\" class=\"dataframe\">\n",
       "  <thead>\n",
       "    <tr style=\"text-align: right;\">\n",
       "      <th></th>\n",
       "      <th>section</th>\n",
       "      <th>headline</th>\n",
       "      <th>abstract</th>\n",
       "      <th>caption</th>\n",
       "      <th>image_url</th>\n",
       "      <th>article_url</th>\n",
       "      <th>image_id</th>\n",
       "    </tr>\n",
       "  </thead>\n",
       "  <tbody>\n",
       "    <tr>\n",
       "      <th>0</th>\n",
       "      <td>Health</td>\n",
       "      <td>F.D.A. Plans to Ban Most E-Cigarette Flavors b...</td>\n",
       "      <td>The tobacco and vaping industries and conserva...</td>\n",
       "      <td>A new study by the National Institute on Drug ...</td>\n",
       "      <td>https://static01.nyt.com/images/2019/11/06/sci...</td>\n",
       "      <td>https://www.nytimes.com/2019/12/31/health/e-ci...</td>\n",
       "      <td>42d25485-0e48-50bf-8d16-948833b2a55d</td>\n",
       "    </tr>\n",
       "    <tr>\n",
       "      <th>1</th>\n",
       "      <td>Science</td>\n",
       "      <td>Meteor Showers in 2020 That Will Light Up Nigh...</td>\n",
       "      <td>All year long, Earth passes through streams of...</td>\n",
       "      <td>Perseid meteors named as \"Orinoid\" streak acro...</td>\n",
       "      <td>https://static01.nyt.com/images/2020/01/01/sci...</td>\n",
       "      <td>https://www.nytimes.com/2020/01/01/science/met...</td>\n",
       "      <td>04bc90f0-b20b-511c-b5bb-3ce13194163f</td>\n",
       "    </tr>\n",
       "    <tr>\n",
       "      <th>2</th>\n",
       "      <td>Science</td>\n",
       "      <td>Rocket Launches, Trips to Mars and More 2020 S...</td>\n",
       "      <td>A year full of highs and lows in space just en...</td>\n",
       "      <td>Spectators viewing the launch of a Soyuz rocke...</td>\n",
       "      <td>https://static01.nyt.com/images/2020/01/01/sci...</td>\n",
       "      <td>https://www.nytimes.com/2020/01/01/science/spa...</td>\n",
       "      <td>bd8647b3-8ec6-50aa-95cf-2b81ed12d2dd</td>\n",
       "    </tr>\n",
       "    <tr>\n",
       "      <th>3</th>\n",
       "      <td>Television</td>\n",
       "      <td>What's on TV Wednesday: A Linda Ronstadt Doc a...</td>\n",
       "      <td>\"Linda Ronstadt: The Sound of My Voice\" airs o...</td>\n",
       "      <td>Linda Ronstadt in \"Linda Ronstadt: The Sound o...</td>\n",
       "      <td>https://static01.nyt.com/images/2020/01/01/art...</td>\n",
       "      <td>https://www.nytimes.com/2020/01/01/arts/televi...</td>\n",
       "      <td>e6c25b53-0416-5795-b0cf-e1243924dc79</td>\n",
       "    </tr>\n",
       "    <tr>\n",
       "      <th>4</th>\n",
       "      <td>Travel</td>\n",
       "      <td>New Cruise Ships to Set Sail for Antarctica</td>\n",
       "      <td>Interested in the southernmost continent? Here...</td>\n",
       "      <td>Antarctica21&amp;rsquo;s expedition ship, Ocean No...</td>\n",
       "      <td>https://static01.nyt.com/images/2020/01/05/tra...</td>\n",
       "      <td>https://www.nytimes.com/2020/01/01/travel/anta...</td>\n",
       "      <td>98c3d182-95ce-5244-9b9e-008a3dee7354</td>\n",
       "    </tr>\n",
       "  </tbody>\n",
       "</table>\n",
       "</div>"
      ],
      "text/plain": [
       "      section                                           headline  \\\n",
       "0      Health  F.D.A. Plans to Ban Most E-Cigarette Flavors b...   \n",
       "1     Science  Meteor Showers in 2020 That Will Light Up Nigh...   \n",
       "2     Science  Rocket Launches, Trips to Mars and More 2020 S...   \n",
       "3  Television  What's on TV Wednesday: A Linda Ronstadt Doc a...   \n",
       "4      Travel        New Cruise Ships to Set Sail for Antarctica   \n",
       "\n",
       "                                            abstract  \\\n",
       "0  The tobacco and vaping industries and conserva...   \n",
       "1  All year long, Earth passes through streams of...   \n",
       "2  A year full of highs and lows in space just en...   \n",
       "3  \"Linda Ronstadt: The Sound of My Voice\" airs o...   \n",
       "4  Interested in the southernmost continent? Here...   \n",
       "\n",
       "                                             caption  \\\n",
       "0  A new study by the National Institute on Drug ...   \n",
       "1  Perseid meteors named as \"Orinoid\" streak acro...   \n",
       "2  Spectators viewing the launch of a Soyuz rocke...   \n",
       "3  Linda Ronstadt in \"Linda Ronstadt: The Sound o...   \n",
       "4  Antarctica21&rsquo;s expedition ship, Ocean No...   \n",
       "\n",
       "                                           image_url  \\\n",
       "0  https://static01.nyt.com/images/2019/11/06/sci...   \n",
       "1  https://static01.nyt.com/images/2020/01/01/sci...   \n",
       "2  https://static01.nyt.com/images/2020/01/01/sci...   \n",
       "3  https://static01.nyt.com/images/2020/01/01/art...   \n",
       "4  https://static01.nyt.com/images/2020/01/05/tra...   \n",
       "\n",
       "                                         article_url  \\\n",
       "0  https://www.nytimes.com/2019/12/31/health/e-ci...   \n",
       "1  https://www.nytimes.com/2020/01/01/science/met...   \n",
       "2  https://www.nytimes.com/2020/01/01/science/spa...   \n",
       "3  https://www.nytimes.com/2020/01/01/arts/televi...   \n",
       "4  https://www.nytimes.com/2020/01/01/travel/anta...   \n",
       "\n",
       "                               image_id  \n",
       "0  42d25485-0e48-50bf-8d16-948833b2a55d  \n",
       "1  04bc90f0-b20b-511c-b5bb-3ce13194163f  \n",
       "2  bd8647b3-8ec6-50aa-95cf-2b81ed12d2dd  \n",
       "3  e6c25b53-0416-5795-b0cf-e1243924dc79  \n",
       "4  98c3d182-95ce-5244-9b9e-008a3dee7354  "
      ]
     },
     "execution_count": 4,
     "metadata": {},
     "output_type": "execute_result"
    }
   ],
   "source": [
    "df.head()"
   ]
  },
  {
   "cell_type": "code",
   "execution_count": 5,
   "id": "193594ad",
   "metadata": {
    "scrolled": true
   },
   "outputs": [
    {
     "data": {
      "text/plain": [
       "array(['Health', 'Science', 'Television', 'Travel', 'Movies', 'Dance',\n",
       "       'Real Estate', 'Economy', 'Sports', 'Theater', 'Opinion', 'Music',\n",
       "       'Books', 'Art & Design', 'Style', 'Media', 'Food', 'Well',\n",
       "       'Fashion', 'Technology', 'Your Money', 'Education', 'Automobiles',\n",
       "       'Global Business'], dtype=object)"
      ]
     },
     "execution_count": 5,
     "metadata": {},
     "output_type": "execute_result"
    }
   ],
   "source": [
    "pd.unique(df.section)"
   ]
  },
  {
   "cell_type": "code",
   "execution_count": 6,
   "id": "d6c670b3",
   "metadata": {
    "scrolled": true
   },
   "outputs": [
    {
     "data": {
      "text/plain": [
       "Health             3000\n",
       "Opinion            3000\n",
       "Technology         3000\n",
       "Fashion            3000\n",
       "Food               3000\n",
       "Media              3000\n",
       "Art & Design       3000\n",
       "Science            3000\n",
       "Music              3000\n",
       "Books              3000\n",
       "Theater            3000\n",
       "Sports             3000\n",
       "Real Estate        3000\n",
       "Dance              3000\n",
       "Movies             3000\n",
       "Travel             3000\n",
       "Television         3000\n",
       "Style              2681\n",
       "Automobiles        1825\n",
       "Economy            1761\n",
       "Your Money         1263\n",
       "Global Business    1182\n",
       "Education           825\n",
       "Well                681\n",
       "Name: section, dtype: int64"
      ]
     },
     "execution_count": 6,
     "metadata": {},
     "output_type": "execute_result"
    }
   ],
   "source": [
    "df.section.value_counts()"
   ]
  },
  {
   "cell_type": "code",
   "execution_count": 7,
   "id": "6d02e61f",
   "metadata": {},
   "outputs": [
    {
     "data": {
      "text/plain": [
       "section        False\n",
       "headline       False\n",
       "abstract       False\n",
       "caption         True\n",
       "image_url      False\n",
       "article_url    False\n",
       "image_id       False\n",
       "dtype: bool"
      ]
     },
     "execution_count": 7,
     "metadata": {},
     "output_type": "execute_result"
    }
   ],
   "source": [
    "df.isnull().any()"
   ]
  },
  {
   "cell_type": "code",
   "execution_count": 8,
   "id": "d147a7ae",
   "metadata": {
    "scrolled": false
   },
   "outputs": [
    {
     "data": {
      "text/plain": [
       "section        object\n",
       "headline       object\n",
       "abstract       object\n",
       "caption        object\n",
       "image_url      object\n",
       "article_url    object\n",
       "image_id       object\n",
       "dtype: object"
      ]
     },
     "execution_count": 8,
     "metadata": {},
     "output_type": "execute_result"
    }
   ],
   "source": [
    "df.dtypes"
   ]
  },
  {
   "cell_type": "code",
   "execution_count": 9,
   "id": "3d3e16d9",
   "metadata": {},
   "outputs": [],
   "source": [
    "df['section'] = df['section'].astype(str)\n",
    "df['headline'] = df['headline'].astype(str)\n",
    "df['abstract'] = df['abstract'].astype(str)\n",
    "df['caption'] = df['caption'].astype(str)\n",
    "df['image_url'] = df['image_url'].astype(str)\n",
    "df['article_url'] = df['article_url'].astype(str)\n",
    "df['image_id'] = df['image_id'].astype(str)"
   ]
  },
  {
   "cell_type": "code",
   "execution_count": 10,
   "id": "bd09e51b",
   "metadata": {
    "scrolled": true
   },
   "outputs": [
    {
     "data": {
      "text/plain": [
       "section        False\n",
       "headline       False\n",
       "abstract       False\n",
       "caption        False\n",
       "image_url      False\n",
       "article_url    False\n",
       "image_id       False\n",
       "dtype: bool"
      ]
     },
     "execution_count": 10,
     "metadata": {},
     "output_type": "execute_result"
    }
   ],
   "source": [
    "df.isnull().any()"
   ]
  },
  {
   "cell_type": "code",
   "execution_count": 11,
   "id": "3d22cb0b",
   "metadata": {},
   "outputs": [
    {
     "data": {
      "text/plain": [
       "0"
      ]
     },
     "execution_count": 11,
     "metadata": {},
     "output_type": "execute_result"
    }
   ],
   "source": [
    "df.caption.isnull().sum()"
   ]
  },
  {
   "cell_type": "code",
   "execution_count": 14,
   "id": "4fbf44c4",
   "metadata": {},
   "outputs": [],
   "source": [
    "df['merged_news_text'] = df[['headline', 'abstract', 'caption']].agg(' '.join, axis=1)"
   ]
  },
  {
   "cell_type": "code",
   "execution_count": 15,
   "id": "be5ed59c",
   "metadata": {},
   "outputs": [],
   "source": [
    "stopwords = nltk.corpus.stopwords.words('english')"
   ]
  },
  {
   "cell_type": "code",
   "execution_count": 16,
   "id": "68cb7603",
   "metadata": {},
   "outputs": [],
   "source": [
    "def clean_news_text(news_text):\n",
    "    news_text = \"\".join([word.lower() for word in news_text if word not in string.punctuation])\n",
    "    tokens = re.split('\\W+', news_text)\n",
    "    news_text_tokens = [word for word in tokens if word not in stopwords]\n",
    "    return news_text_tokens"
   ]
  },
  {
   "cell_type": "code",
   "execution_count": 17,
   "id": "7ff60247",
   "metadata": {},
   "outputs": [],
   "source": [
    "df['cleaned_news_text_tokens'] = df['merged_news_text'].apply(lambda news_text: clean_news_text(news_text))"
   ]
  },
  {
   "cell_type": "code",
   "execution_count": 18,
   "id": "9cdc7d69",
   "metadata": {},
   "outputs": [
    {
     "data": {
      "text/html": [
       "<div>\n",
       "<style scoped>\n",
       "    .dataframe tbody tr th:only-of-type {\n",
       "        vertical-align: middle;\n",
       "    }\n",
       "\n",
       "    .dataframe tbody tr th {\n",
       "        vertical-align: top;\n",
       "    }\n",
       "\n",
       "    .dataframe thead th {\n",
       "        text-align: right;\n",
       "    }\n",
       "</style>\n",
       "<table border=\"1\" class=\"dataframe\">\n",
       "  <thead>\n",
       "    <tr style=\"text-align: right;\">\n",
       "      <th></th>\n",
       "      <th>section</th>\n",
       "      <th>headline</th>\n",
       "      <th>abstract</th>\n",
       "      <th>caption</th>\n",
       "      <th>image_url</th>\n",
       "      <th>article_url</th>\n",
       "      <th>image_id</th>\n",
       "      <th>merged_news_text</th>\n",
       "      <th>cleaned_news_text_tokens</th>\n",
       "    </tr>\n",
       "  </thead>\n",
       "  <tbody>\n",
       "    <tr>\n",
       "      <th>0</th>\n",
       "      <td>Health</td>\n",
       "      <td>F.D.A. Plans to Ban Most E-Cigarette Flavors b...</td>\n",
       "      <td>The tobacco and vaping industries and conserva...</td>\n",
       "      <td>A new study by the National Institute on Drug ...</td>\n",
       "      <td>https://static01.nyt.com/images/2019/11/06/sci...</td>\n",
       "      <td>https://www.nytimes.com/2019/12/31/health/e-ci...</td>\n",
       "      <td>42d25485-0e48-50bf-8d16-948833b2a55d</td>\n",
       "      <td>F.D.A. Plans to Ban Most E-Cigarette Flavors b...</td>\n",
       "      <td>[fda, plans, ban, ecigarette, flavors, menthol...</td>\n",
       "    </tr>\n",
       "    <tr>\n",
       "      <th>1</th>\n",
       "      <td>Science</td>\n",
       "      <td>Meteor Showers in 2020 That Will Light Up Nigh...</td>\n",
       "      <td>All year long, Earth passes through streams of...</td>\n",
       "      <td>Perseid meteors named as \"Orinoid\" streak acro...</td>\n",
       "      <td>https://static01.nyt.com/images/2020/01/01/sci...</td>\n",
       "      <td>https://www.nytimes.com/2020/01/01/science/met...</td>\n",
       "      <td>04bc90f0-b20b-511c-b5bb-3ce13194163f</td>\n",
       "      <td>Meteor Showers in 2020 That Will Light Up Nigh...</td>\n",
       "      <td>[meteor, showers, 2020, light, night, skies, y...</td>\n",
       "    </tr>\n",
       "    <tr>\n",
       "      <th>2</th>\n",
       "      <td>Science</td>\n",
       "      <td>Rocket Launches, Trips to Mars and More 2020 S...</td>\n",
       "      <td>A year full of highs and lows in space just en...</td>\n",
       "      <td>Spectators viewing the launch of a Soyuz rocke...</td>\n",
       "      <td>https://static01.nyt.com/images/2020/01/01/sci...</td>\n",
       "      <td>https://www.nytimes.com/2020/01/01/science/spa...</td>\n",
       "      <td>bd8647b3-8ec6-50aa-95cf-2b81ed12d2dd</td>\n",
       "      <td>Rocket Launches, Trips to Mars and More 2020 S...</td>\n",
       "      <td>[rocket, launches, trips, mars, 2020, space, a...</td>\n",
       "    </tr>\n",
       "    <tr>\n",
       "      <th>3</th>\n",
       "      <td>Television</td>\n",
       "      <td>What's on TV Wednesday: A Linda Ronstadt Doc a...</td>\n",
       "      <td>\"Linda Ronstadt: The Sound of My Voice\" airs o...</td>\n",
       "      <td>Linda Ronstadt in \"Linda Ronstadt: The Sound o...</td>\n",
       "      <td>https://static01.nyt.com/images/2020/01/01/art...</td>\n",
       "      <td>https://www.nytimes.com/2020/01/01/arts/televi...</td>\n",
       "      <td>e6c25b53-0416-5795-b0cf-e1243924dc79</td>\n",
       "      <td>What's on TV Wednesday: A Linda Ronstadt Doc a...</td>\n",
       "      <td>[whats, tv, wednesday, linda, ronstadt, doc, d...</td>\n",
       "    </tr>\n",
       "    <tr>\n",
       "      <th>4</th>\n",
       "      <td>Travel</td>\n",
       "      <td>New Cruise Ships to Set Sail for Antarctica</td>\n",
       "      <td>Interested in the southernmost continent? Here...</td>\n",
       "      <td>Antarctica21&amp;rsquo;s expedition ship, Ocean No...</td>\n",
       "      <td>https://static01.nyt.com/images/2020/01/05/tra...</td>\n",
       "      <td>https://www.nytimes.com/2020/01/01/travel/anta...</td>\n",
       "      <td>98c3d182-95ce-5244-9b9e-008a3dee7354</td>\n",
       "      <td>New Cruise Ships to Set Sail for Antarctica In...</td>\n",
       "      <td>[new, cruise, ships, set, sail, antarctica, in...</td>\n",
       "    </tr>\n",
       "  </tbody>\n",
       "</table>\n",
       "</div>"
      ],
      "text/plain": [
       "      section                                           headline  \\\n",
       "0      Health  F.D.A. Plans to Ban Most E-Cigarette Flavors b...   \n",
       "1     Science  Meteor Showers in 2020 That Will Light Up Nigh...   \n",
       "2     Science  Rocket Launches, Trips to Mars and More 2020 S...   \n",
       "3  Television  What's on TV Wednesday: A Linda Ronstadt Doc a...   \n",
       "4      Travel        New Cruise Ships to Set Sail for Antarctica   \n",
       "\n",
       "                                            abstract  \\\n",
       "0  The tobacco and vaping industries and conserva...   \n",
       "1  All year long, Earth passes through streams of...   \n",
       "2  A year full of highs and lows in space just en...   \n",
       "3  \"Linda Ronstadt: The Sound of My Voice\" airs o...   \n",
       "4  Interested in the southernmost continent? Here...   \n",
       "\n",
       "                                             caption  \\\n",
       "0  A new study by the National Institute on Drug ...   \n",
       "1  Perseid meteors named as \"Orinoid\" streak acro...   \n",
       "2  Spectators viewing the launch of a Soyuz rocke...   \n",
       "3  Linda Ronstadt in \"Linda Ronstadt: The Sound o...   \n",
       "4  Antarctica21&rsquo;s expedition ship, Ocean No...   \n",
       "\n",
       "                                           image_url  \\\n",
       "0  https://static01.nyt.com/images/2019/11/06/sci...   \n",
       "1  https://static01.nyt.com/images/2020/01/01/sci...   \n",
       "2  https://static01.nyt.com/images/2020/01/01/sci...   \n",
       "3  https://static01.nyt.com/images/2020/01/01/art...   \n",
       "4  https://static01.nyt.com/images/2020/01/05/tra...   \n",
       "\n",
       "                                         article_url  \\\n",
       "0  https://www.nytimes.com/2019/12/31/health/e-ci...   \n",
       "1  https://www.nytimes.com/2020/01/01/science/met...   \n",
       "2  https://www.nytimes.com/2020/01/01/science/spa...   \n",
       "3  https://www.nytimes.com/2020/01/01/arts/televi...   \n",
       "4  https://www.nytimes.com/2020/01/01/travel/anta...   \n",
       "\n",
       "                               image_id  \\\n",
       "0  42d25485-0e48-50bf-8d16-948833b2a55d   \n",
       "1  04bc90f0-b20b-511c-b5bb-3ce13194163f   \n",
       "2  bd8647b3-8ec6-50aa-95cf-2b81ed12d2dd   \n",
       "3  e6c25b53-0416-5795-b0cf-e1243924dc79   \n",
       "4  98c3d182-95ce-5244-9b9e-008a3dee7354   \n",
       "\n",
       "                                    merged_news_text  \\\n",
       "0  F.D.A. Plans to Ban Most E-Cigarette Flavors b...   \n",
       "1  Meteor Showers in 2020 That Will Light Up Nigh...   \n",
       "2  Rocket Launches, Trips to Mars and More 2020 S...   \n",
       "3  What's on TV Wednesday: A Linda Ronstadt Doc a...   \n",
       "4  New Cruise Ships to Set Sail for Antarctica In...   \n",
       "\n",
       "                            cleaned_news_text_tokens  \n",
       "0  [fda, plans, ban, ecigarette, flavors, menthol...  \n",
       "1  [meteor, showers, 2020, light, night, skies, y...  \n",
       "2  [rocket, launches, trips, mars, 2020, space, a...  \n",
       "3  [whats, tv, wednesday, linda, ronstadt, doc, d...  \n",
       "4  [new, cruise, ships, set, sail, antarctica, in...  "
      ]
     },
     "execution_count": 18,
     "metadata": {},
     "output_type": "execute_result"
    }
   ],
   "source": [
    "df.head()"
   ]
  },
  {
   "cell_type": "code",
   "execution_count": 23,
   "id": "72675c73",
   "metadata": {},
   "outputs": [
    {
     "data": {
      "text/plain": [
       "array(['Health', 'Science', 'Television', 'Travel', 'Movies', 'Dance',\n",
       "       'Real Estate', 'Economy', 'Sports', 'Theater', 'Opinion', 'Music',\n",
       "       'Books', 'Art & Design', 'Style', 'Media', 'Food', 'Well',\n",
       "       'Fashion', 'Technology', 'Your Money', 'Education', 'Automobiles',\n",
       "       'Global Business'], dtype=object)"
      ]
     },
     "execution_count": 23,
     "metadata": {},
     "output_type": "execute_result"
    }
   ],
   "source": [
    "df.section.unique()"
   ]
  },
  {
   "cell_type": "code",
   "execution_count": 21,
   "id": "d8c1702b",
   "metadata": {},
   "outputs": [],
   "source": [
    "label_encoder = preprocessing.LabelEncoder() \n",
    "df['section_id']= label_encoder.fit_transform(df['section'])"
   ]
  },
  {
   "cell_type": "code",
   "execution_count": 22,
   "id": "6e2c2629",
   "metadata": {},
   "outputs": [
    {
     "data": {
      "text/html": [
       "<div>\n",
       "<style scoped>\n",
       "    .dataframe tbody tr th:only-of-type {\n",
       "        vertical-align: middle;\n",
       "    }\n",
       "\n",
       "    .dataframe tbody tr th {\n",
       "        vertical-align: top;\n",
       "    }\n",
       "\n",
       "    .dataframe thead th {\n",
       "        text-align: right;\n",
       "    }\n",
       "</style>\n",
       "<table border=\"1\" class=\"dataframe\">\n",
       "  <thead>\n",
       "    <tr style=\"text-align: right;\">\n",
       "      <th></th>\n",
       "      <th>section</th>\n",
       "      <th>headline</th>\n",
       "      <th>abstract</th>\n",
       "      <th>caption</th>\n",
       "      <th>image_url</th>\n",
       "      <th>article_url</th>\n",
       "      <th>image_id</th>\n",
       "      <th>merged_news_text</th>\n",
       "      <th>cleaned_news_text_tokens</th>\n",
       "      <th>section_id</th>\n",
       "    </tr>\n",
       "  </thead>\n",
       "  <tbody>\n",
       "    <tr>\n",
       "      <th>0</th>\n",
       "      <td>Health</td>\n",
       "      <td>F.D.A. Plans to Ban Most E-Cigarette Flavors b...</td>\n",
       "      <td>The tobacco and vaping industries and conserva...</td>\n",
       "      <td>A new study by the National Institute on Drug ...</td>\n",
       "      <td>https://static01.nyt.com/images/2019/11/06/sci...</td>\n",
       "      <td>https://www.nytimes.com/2019/12/31/health/e-ci...</td>\n",
       "      <td>42d25485-0e48-50bf-8d16-948833b2a55d</td>\n",
       "      <td>F.D.A. Plans to Ban Most E-Cigarette Flavors b...</td>\n",
       "      <td>[fda, plans, ban, ecigarette, flavors, menthol...</td>\n",
       "      <td>9</td>\n",
       "    </tr>\n",
       "    <tr>\n",
       "      <th>1</th>\n",
       "      <td>Science</td>\n",
       "      <td>Meteor Showers in 2020 That Will Light Up Nigh...</td>\n",
       "      <td>All year long, Earth passes through streams of...</td>\n",
       "      <td>Perseid meteors named as \"Orinoid\" streak acro...</td>\n",
       "      <td>https://static01.nyt.com/images/2020/01/01/sci...</td>\n",
       "      <td>https://www.nytimes.com/2020/01/01/science/met...</td>\n",
       "      <td>04bc90f0-b20b-511c-b5bb-3ce13194163f</td>\n",
       "      <td>Meteor Showers in 2020 That Will Light Up Nigh...</td>\n",
       "      <td>[meteor, showers, 2020, light, night, skies, y...</td>\n",
       "      <td>15</td>\n",
       "    </tr>\n",
       "    <tr>\n",
       "      <th>2</th>\n",
       "      <td>Science</td>\n",
       "      <td>Rocket Launches, Trips to Mars and More 2020 S...</td>\n",
       "      <td>A year full of highs and lows in space just en...</td>\n",
       "      <td>Spectators viewing the launch of a Soyuz rocke...</td>\n",
       "      <td>https://static01.nyt.com/images/2020/01/01/sci...</td>\n",
       "      <td>https://www.nytimes.com/2020/01/01/science/spa...</td>\n",
       "      <td>bd8647b3-8ec6-50aa-95cf-2b81ed12d2dd</td>\n",
       "      <td>Rocket Launches, Trips to Mars and More 2020 S...</td>\n",
       "      <td>[rocket, launches, trips, mars, 2020, space, a...</td>\n",
       "      <td>15</td>\n",
       "    </tr>\n",
       "    <tr>\n",
       "      <th>3</th>\n",
       "      <td>Television</td>\n",
       "      <td>What's on TV Wednesday: A Linda Ronstadt Doc a...</td>\n",
       "      <td>\"Linda Ronstadt: The Sound of My Voice\" airs o...</td>\n",
       "      <td>Linda Ronstadt in \"Linda Ronstadt: The Sound o...</td>\n",
       "      <td>https://static01.nyt.com/images/2020/01/01/art...</td>\n",
       "      <td>https://www.nytimes.com/2020/01/01/arts/televi...</td>\n",
       "      <td>e6c25b53-0416-5795-b0cf-e1243924dc79</td>\n",
       "      <td>What's on TV Wednesday: A Linda Ronstadt Doc a...</td>\n",
       "      <td>[whats, tv, wednesday, linda, ronstadt, doc, d...</td>\n",
       "      <td>19</td>\n",
       "    </tr>\n",
       "    <tr>\n",
       "      <th>4</th>\n",
       "      <td>Travel</td>\n",
       "      <td>New Cruise Ships to Set Sail for Antarctica</td>\n",
       "      <td>Interested in the southernmost continent? Here...</td>\n",
       "      <td>Antarctica21&amp;rsquo;s expedition ship, Ocean No...</td>\n",
       "      <td>https://static01.nyt.com/images/2020/01/05/tra...</td>\n",
       "      <td>https://www.nytimes.com/2020/01/01/travel/anta...</td>\n",
       "      <td>98c3d182-95ce-5244-9b9e-008a3dee7354</td>\n",
       "      <td>New Cruise Ships to Set Sail for Antarctica In...</td>\n",
       "      <td>[new, cruise, ships, set, sail, antarctica, in...</td>\n",
       "      <td>21</td>\n",
       "    </tr>\n",
       "  </tbody>\n",
       "</table>\n",
       "</div>"
      ],
      "text/plain": [
       "      section                                           headline  \\\n",
       "0      Health  F.D.A. Plans to Ban Most E-Cigarette Flavors b...   \n",
       "1     Science  Meteor Showers in 2020 That Will Light Up Nigh...   \n",
       "2     Science  Rocket Launches, Trips to Mars and More 2020 S...   \n",
       "3  Television  What's on TV Wednesday: A Linda Ronstadt Doc a...   \n",
       "4      Travel        New Cruise Ships to Set Sail for Antarctica   \n",
       "\n",
       "                                            abstract  \\\n",
       "0  The tobacco and vaping industries and conserva...   \n",
       "1  All year long, Earth passes through streams of...   \n",
       "2  A year full of highs and lows in space just en...   \n",
       "3  \"Linda Ronstadt: The Sound of My Voice\" airs o...   \n",
       "4  Interested in the southernmost continent? Here...   \n",
       "\n",
       "                                             caption  \\\n",
       "0  A new study by the National Institute on Drug ...   \n",
       "1  Perseid meteors named as \"Orinoid\" streak acro...   \n",
       "2  Spectators viewing the launch of a Soyuz rocke...   \n",
       "3  Linda Ronstadt in \"Linda Ronstadt: The Sound o...   \n",
       "4  Antarctica21&rsquo;s expedition ship, Ocean No...   \n",
       "\n",
       "                                           image_url  \\\n",
       "0  https://static01.nyt.com/images/2019/11/06/sci...   \n",
       "1  https://static01.nyt.com/images/2020/01/01/sci...   \n",
       "2  https://static01.nyt.com/images/2020/01/01/sci...   \n",
       "3  https://static01.nyt.com/images/2020/01/01/art...   \n",
       "4  https://static01.nyt.com/images/2020/01/05/tra...   \n",
       "\n",
       "                                         article_url  \\\n",
       "0  https://www.nytimes.com/2019/12/31/health/e-ci...   \n",
       "1  https://www.nytimes.com/2020/01/01/science/met...   \n",
       "2  https://www.nytimes.com/2020/01/01/science/spa...   \n",
       "3  https://www.nytimes.com/2020/01/01/arts/televi...   \n",
       "4  https://www.nytimes.com/2020/01/01/travel/anta...   \n",
       "\n",
       "                               image_id  \\\n",
       "0  42d25485-0e48-50bf-8d16-948833b2a55d   \n",
       "1  04bc90f0-b20b-511c-b5bb-3ce13194163f   \n",
       "2  bd8647b3-8ec6-50aa-95cf-2b81ed12d2dd   \n",
       "3  e6c25b53-0416-5795-b0cf-e1243924dc79   \n",
       "4  98c3d182-95ce-5244-9b9e-008a3dee7354   \n",
       "\n",
       "                                    merged_news_text  \\\n",
       "0  F.D.A. Plans to Ban Most E-Cigarette Flavors b...   \n",
       "1  Meteor Showers in 2020 That Will Light Up Nigh...   \n",
       "2  Rocket Launches, Trips to Mars and More 2020 S...   \n",
       "3  What's on TV Wednesday: A Linda Ronstadt Doc a...   \n",
       "4  New Cruise Ships to Set Sail for Antarctica In...   \n",
       "\n",
       "                            cleaned_news_text_tokens  section_id  \n",
       "0  [fda, plans, ban, ecigarette, flavors, menthol...           9  \n",
       "1  [meteor, showers, 2020, light, night, skies, y...          15  \n",
       "2  [rocket, launches, trips, mars, 2020, space, a...          15  \n",
       "3  [whats, tv, wednesday, linda, ronstadt, doc, d...          19  \n",
       "4  [new, cruise, ships, set, sail, antarctica, in...          21  "
      ]
     },
     "execution_count": 22,
     "metadata": {},
     "output_type": "execute_result"
    }
   ],
   "source": [
    "df.head()"
   ]
  },
  {
   "cell_type": "code",
   "execution_count": null,
   "id": "9ca0d801",
   "metadata": {},
   "outputs": [],
   "source": []
  }
 ],
 "metadata": {
  "kernelspec": {
   "display_name": "Python 3 (ipykernel)",
   "language": "python",
   "name": "python3"
  },
  "language_info": {
   "codemirror_mode": {
    "name": "ipython",
    "version": 3
   },
   "file_extension": ".py",
   "mimetype": "text/x-python",
   "name": "python",
   "nbconvert_exporter": "python",
   "pygments_lexer": "ipython3",
   "version": "3.9.7"
  }
 },
 "nbformat": 4,
 "nbformat_minor": 5
}
